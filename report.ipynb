{
 "cells": [
  {
   "cell_type": "code",
   "execution_count": null,
   "id": "ba30ed47",
   "metadata": {},
   "outputs": [],
   "source": [
    "from math import comb"
   ]
  },
  {
   "cell_type": "markdown",
   "id": "4d76571b",
   "metadata": {},
   "source": [
    "# Oh Hell\n",
    "\n",
    "In case you aren't familiar, oh hell is a trick taking game a little bit like hearts. The major difference is that at the start of each round, each participant guesses how many tricks they will take. You only get points if you get *exactly* that many tricks. Another peculiarity of the game is that the size of the hand changes each round, starting at ten and going down by one till you are dealt just a single card. "
   ]
  },
  {
   "cell_type": "markdown",
   "id": "69b4485c",
   "metadata": {},
   "source": [
    "Let's take a look at the one card hand as a nice pocket example and try to figure out the optimal play. Let's assume you've dealt (which means you're leading) You have a binary deciscion to make- you can guess one, saying you will take the trick, or 0 saying that you won't take the trick. You have three peices of information- the card in your hand, how many other players there are, and one card you know is out of the game (one card is flipped over to select the trump at the start of each round).\n",
    "\n",
    "To beat your card, another player would have to have a card of the same suite bigger than your card or a trump or a higher trump if the card in your hand is a trump. We can boil the question down to something more mathematically tractable- what is the probability that someone else at the table has a card that will beat your card? You should bet 1 if there is a more than 50% chance you will win the hand, otherwise 0. "
   ]
  },
  {
   "cell_type": "markdown",
   "id": "d752fb16",
   "metadata": {},
   "source": [
    "Let's specify some numbers, we'll value the face cards as 11 for the jack, 12 for the queen, etc. "
   ]
  },
  {
   "cell_type": "code",
   "execution_count": 16,
   "id": "47149489",
   "metadata": {},
   "outputs": [],
   "source": [
    "deck_size = 52\n",
    "num_players = 3\n",
    "trump_display_card_val = 11\n",
    "trump_suite = \"hearts\"\n",
    "your_card_value = 9\n",
    "your_card_suite = \"diamonds\""
   ]
  },
  {
   "cell_type": "markdown",
   "id": "7cf74858",
   "metadata": {},
   "source": [
    "Okay, so based on all the trick taking rules we know two full suites won't take your card. Spades and clubs won't take the trick, and neither will the 2 of diamonds through the 8 of diamonds. That's a total of 33 cards (26 of the other suites, 7 of the lower cards in the same suite) that won't take the trick. There are 50 cards in the deck, and we dealt 2 of them to the other players. "
   ]
  },
  {
   "cell_type": "markdown",
   "id": "c8cbc342",
   "metadata": {},
   "source": [
    "Well, for the first player we know they have a 33/50 chance of not picking a card that's bigger than our card. Assuming that's happend the second player has a 33/49 chance of not picking a card that's bigger than our card. Multiplying those probabilities we get:"
   ]
  },
  {
   "cell_type": "code",
   "execution_count": 34,
   "id": "a57390a2",
   "metadata": {},
   "outputs": [
    {
     "data": {
      "text/plain": [
       "0.44448979591836735"
      ]
     },
     "execution_count": 34,
     "metadata": {},
     "output_type": "execute_result"
    }
   ],
   "source": [
    "33/50 * 33/49"
   ]
  },
  {
   "cell_type": "markdown",
   "id": "051f77df",
   "metadata": {},
   "source": [
    "So you should guess 0 in this scenario!"
   ]
  },
  {
   "cell_type": "markdown",
   "id": "ff7f41f2",
   "metadata": {},
   "source": [
    "Let's see if we can generalize this solution. I'd like to know what the lowest card you should bet 1 on is for each number of players. "
   ]
  },
  {
   "cell_type": "code",
   "execution_count": 18,
   "id": "6727c05a",
   "metadata": {},
   "outputs": [],
   "source": [
    "def get_num_cards_that_take_trick(tcard_out_val, trump_suite, in_hand_val, in_hand_suite):\n",
    "    # This is pretty easy if you have trump- it's just how many trump cards are higher \n",
    "    if trump_suite == in_hand_suite:\n",
    "        bigger_trumps = 14 - in_hand_val \n",
    "        if tcard_out_val > in_hand_val: # If the trump card out is bigger, we take one away here\n",
    "            bigger_trumps = bigger_trumps - 1\n",
    "        return bigger_trumps\n",
    "    \n",
    "    n_trumps = 12 # one is flipped at the start of the round to define trump class\n",
    "    bigger_in_hand_suite = 14 - in_hand_val \n",
    "    return n_trumps + bigger_in_hand_suite"
   ]
  },
  {
   "cell_type": "code",
   "execution_count": 50,
   "id": "31d8ea82",
   "metadata": {},
   "outputs": [],
   "source": [
    "def probability_of_winning_trick(tcard_out_val, trump_suite, in_hand_val, in_hand_suite, num_players):\n",
    "    num_cards_that_take = get_num_cards_that_take_trick(tcard_out_val, trump_suite, in_hand_val, in_hand_suite)\n",
    "    probability_of_taking = 1\n",
    "    for n in range(num_players - 1):\n",
    "        prob_no_take = (50 - num_cards_that_take) / (50 - n)\n",
    "        probability_of_taking = probability_of_taking * prob_no_take\n",
    "    return probability_of_taking"
   ]
  },
  {
   "cell_type": "code",
   "execution_count": 52,
   "id": "698a5e7c",
   "metadata": {},
   "outputs": [
    {
     "name": "stdout",
     "output_type": "stream",
     "text": [
      "0.66\n",
      "0.673469387755102\n"
     ]
    },
    {
     "data": {
      "text/plain": [
       "0.44448979591836735"
      ]
     },
     "execution_count": 52,
     "metadata": {},
     "output_type": "execute_result"
    }
   ],
   "source": [
    "probability_of_winning_trick(14, \"hearts\", 9, \"diamonds\", 3)"
   ]
  },
  {
   "cell_type": "code",
   "execution_count": 58,
   "id": "0839c55e",
   "metadata": {},
   "outputs": [],
   "source": [
    "values = range(2, 14) \n",
    "is_trump = [False, True]\n",
    "players = range(2, 8)"
   ]
  },
  {
   "cell_type": "code",
   "execution_count": 60,
   "id": "d369ee78",
   "metadata": {},
   "outputs": [
    {
     "ename": "IndentationError",
     "evalue": "expected an indented block (Temp/ipykernel_1280/1438480759.py, line 6)",
     "output_type": "error",
     "traceback": [
      "\u001b[1;36m  File \u001b[1;32m\"C:\\Users\\jacob\\AppData\\Local\\Temp/ipykernel_1280/1438480759.py\"\u001b[1;36m, line \u001b[1;32m6\u001b[0m\n\u001b[1;33m    for your_card_val in values:\u001b[0m\n\u001b[1;37m    ^\u001b[0m\n\u001b[1;31mIndentationError\u001b[0m\u001b[1;31m:\u001b[0m expected an indented block\n"
     ]
    }
   ],
   "source": [
    "for player_num in players:\n",
    "    while prob_take <= .5:\n",
    "        for trump in is_trump:\n",
    "            for your_card_val in values:\n",
    "                prob_take \n",
    "            "
   ]
  },
  {
   "cell_type": "code",
   "execution_count": null,
   "id": "7fba5b8d",
   "metadata": {},
   "outputs": [],
   "source": []
  }
 ],
 "metadata": {
  "kernelspec": {
   "display_name": "Python 3 (ipykernel)",
   "language": "python",
   "name": "python3"
  },
  "language_info": {
   "codemirror_mode": {
    "name": "ipython",
    "version": 3
   },
   "file_extension": ".py",
   "mimetype": "text/x-python",
   "name": "python",
   "nbconvert_exporter": "python",
   "pygments_lexer": "ipython3",
   "version": "3.8.3"
  }
 },
 "nbformat": 4,
 "nbformat_minor": 5
}
